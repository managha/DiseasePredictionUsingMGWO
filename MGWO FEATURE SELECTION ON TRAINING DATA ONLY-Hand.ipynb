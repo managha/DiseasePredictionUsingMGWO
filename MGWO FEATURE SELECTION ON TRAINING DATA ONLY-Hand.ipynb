{
 "cells": [
  {
   "cell_type": "markdown",
   "metadata": {},
   "source": [
    "# Parkinson disease predicition with Modified Grey Wolf Optimization (MGWO) using Handpd dataset"
   ]
  },
  {
   "cell_type": "code",
   "execution_count": 1,
   "metadata": {},
   "outputs": [],
   "source": [
    "import numpy as np\n",
    "import pandas as pd\n",
    "import matplotlib.pyplot as plt\n",
    "from sklearn.ensemble import RandomForestClassifier\n",
    "import math\n",
    "import random\n",
    "import warnings\n",
    "warnings.filterwarnings('ignore')\n",
    "from sklearn.model_selection import train_test_split\n",
    "from sklearn.preprocessing import StandardScaler\n",
    "from sklearn.metrics import classification_report, confusion_matrix, accuracy_score\n",
    "from sklearn.neighbors import KNeighborsClassifier\n",
    "from sklearn.tree import DecisionTreeClassifier\n",
    "from sklearn.ensemble import VotingClassifier"
   ]
  },
  {
   "cell_type": "markdown",
   "metadata": {},
   "source": [
    "Load the respective Parkinson dataset"
   ]
  },
  {
   "cell_type": "code",
   "execution_count": 2,
   "metadata": {},
   "outputs": [
    {
     "data": {
      "text/html": [
       "<div>\n",
       "<style scoped>\n",
       "    .dataframe tbody tr th:only-of-type {\n",
       "        vertical-align: middle;\n",
       "    }\n",
       "\n",
       "    .dataframe tbody tr th {\n",
       "        vertical-align: top;\n",
       "    }\n",
       "\n",
       "    .dataframe thead th {\n",
       "        text-align: right;\n",
       "    }\n",
       "</style>\n",
       "<table border=\"1\" class=\"dataframe\">\n",
       "  <thead>\n",
       "    <tr style=\"text-align: right;\">\n",
       "      <th></th>\n",
       "      <th>_ID_EXAM</th>\n",
       "      <th>IMAGE_NAME</th>\n",
       "      <th>ID_PATIENT</th>\n",
       "      <th>CLASS_TYPE</th>\n",
       "      <th>GENDER</th>\n",
       "      <th>RIGH_LEFT_HANDED</th>\n",
       "      <th>AGE</th>\n",
       "      <th>RMS</th>\n",
       "      <th>MAX_BETWEEN_ET_HT</th>\n",
       "      <th>MIN_BETWEEN_ET_HT</th>\n",
       "      <th>STD_DEVIATION_ET_HT</th>\n",
       "      <th>MRT</th>\n",
       "      <th>MAX_HT</th>\n",
       "      <th>MIN_HT</th>\n",
       "      <th>STD_HT</th>\n",
       "      <th>CHANGES_FROM_NEGATIVE_TO_POSITIVE_BETWEEN_ET_HT</th>\n",
       "    </tr>\n",
       "  </thead>\n",
       "  <tbody>\n",
       "    <tr>\n",
       "      <td>0</td>\n",
       "      <td>H1</td>\n",
       "      <td>sp1-H1.jpg</td>\n",
       "      <td>59</td>\n",
       "      <td>1</td>\n",
       "      <td>M</td>\n",
       "      <td>R</td>\n",
       "      <td>58</td>\n",
       "      <td>14900.772670</td>\n",
       "      <td>13207.241210</td>\n",
       "      <td>40856.39894</td>\n",
       "      <td>0.087041</td>\n",
       "      <td>56.978320</td>\n",
       "      <td>192.737170</td>\n",
       "      <td>0.026662</td>\n",
       "      <td>4394.307090</td>\n",
       "      <td>0.120773</td>\n",
       "    </tr>\n",
       "    <tr>\n",
       "      <td>1</td>\n",
       "      <td>H2</td>\n",
       "      <td>sp1-H2.jpg</td>\n",
       "      <td>76</td>\n",
       "      <td>1</td>\n",
       "      <td>M</td>\n",
       "      <td>R</td>\n",
       "      <td>60</td>\n",
       "      <td>6076.106534</td>\n",
       "      <td>9440.754502</td>\n",
       "      <td>36137.73814</td>\n",
       "      <td>0.065872</td>\n",
       "      <td>39.597318</td>\n",
       "      <td>169.753376</td>\n",
       "      <td>0.266595</td>\n",
       "      <td>2031.447046</td>\n",
       "      <td>0.172414</td>\n",
       "    </tr>\n",
       "    <tr>\n",
       "      <td>2</td>\n",
       "      <td>H3</td>\n",
       "      <td>sp1-H3.jpg</td>\n",
       "      <td>301</td>\n",
       "      <td>1</td>\n",
       "      <td>F</td>\n",
       "      <td>R</td>\n",
       "      <td>56</td>\n",
       "      <td>12220.462340</td>\n",
       "      <td>12247.263300</td>\n",
       "      <td>39871.73569</td>\n",
       "      <td>0.000000</td>\n",
       "      <td>46.183810</td>\n",
       "      <td>192.536776</td>\n",
       "      <td>0.007857</td>\n",
       "      <td>3843.754479</td>\n",
       "      <td>0.123894</td>\n",
       "    </tr>\n",
       "    <tr>\n",
       "      <td>3</td>\n",
       "      <td>H4</td>\n",
       "      <td>sp1-H4.jpg</td>\n",
       "      <td>102</td>\n",
       "      <td>1</td>\n",
       "      <td>M</td>\n",
       "      <td>R</td>\n",
       "      <td>24</td>\n",
       "      <td>4810.072073</td>\n",
       "      <td>4904.029458</td>\n",
       "      <td>32262.38975</td>\n",
       "      <td>0.044374</td>\n",
       "      <td>31.485790</td>\n",
       "      <td>200.401229</td>\n",
       "      <td>0.114530</td>\n",
       "      <td>1586.941716</td>\n",
       "      <td>0.162011</td>\n",
       "    </tr>\n",
       "    <tr>\n",
       "      <td>4</td>\n",
       "      <td>H5</td>\n",
       "      <td>sp1-H5.jpg</td>\n",
       "      <td>305</td>\n",
       "      <td>1</td>\n",
       "      <td>M</td>\n",
       "      <td>R</td>\n",
       "      <td>79</td>\n",
       "      <td>5458.875925</td>\n",
       "      <td>5911.591981</td>\n",
       "      <td>31795.46792</td>\n",
       "      <td>0.040906</td>\n",
       "      <td>47.231442</td>\n",
       "      <td>134.897863</td>\n",
       "      <td>0.026703</td>\n",
       "      <td>2251.866128</td>\n",
       "      <td>0.202899</td>\n",
       "    </tr>\n",
       "  </tbody>\n",
       "</table>\n",
       "</div>"
      ],
      "text/plain": [
       "  _ID_EXAM  IMAGE_NAME  ID_PATIENT  CLASS_TYPE GENDER RIGH_LEFT_HANDED  AGE  \\\n",
       "0       H1  sp1-H1.jpg          59           1      M                R   58   \n",
       "1       H2  sp1-H2.jpg          76           1      M                R   60   \n",
       "2       H3  sp1-H3.jpg         301           1      F                R   56   \n",
       "3       H4  sp1-H4.jpg         102           1      M                R   24   \n",
       "4       H5  sp1-H5.jpg         305           1      M                R   79   \n",
       "\n",
       "            RMS  MAX_BETWEEN_ET_HT  MIN_BETWEEN_ET_HT  STD_DEVIATION_ET_HT  \\\n",
       "0  14900.772670       13207.241210        40856.39894             0.087041   \n",
       "1   6076.106534        9440.754502        36137.73814             0.065872   \n",
       "2  12220.462340       12247.263300        39871.73569             0.000000   \n",
       "3   4810.072073        4904.029458        32262.38975             0.044374   \n",
       "4   5458.875925        5911.591981        31795.46792             0.040906   \n",
       "\n",
       "         MRT      MAX_HT    MIN_HT       STD_HT  \\\n",
       "0  56.978320  192.737170  0.026662  4394.307090   \n",
       "1  39.597318  169.753376  0.266595  2031.447046   \n",
       "2  46.183810  192.536776  0.007857  3843.754479   \n",
       "3  31.485790  200.401229  0.114530  1586.941716   \n",
       "4  47.231442  134.897863  0.026703  2251.866128   \n",
       "\n",
       "   CHANGES_FROM_NEGATIVE_TO_POSITIVE_BETWEEN_ET_HT  \n",
       "0                                         0.120773  \n",
       "1                                         0.172414  \n",
       "2                                         0.123894  \n",
       "3                                         0.162011  \n",
       "4                                         0.202899  "
      ]
     },
     "execution_count": 2,
     "metadata": {},
     "output_type": "execute_result"
    }
   ],
   "source": [
    "#my_data=pd.read_table('NewMeander.csv',sep=\",\")\n",
    "my_data=pd.read_table('NewSpiral.csv',sep=\",\")\n",
    "my_data.head()\n"
   ]
  },
  {
   "cell_type": "code",
   "execution_count": 3,
   "metadata": {},
   "outputs": [
    {
     "data": {
      "text/html": [
       "<div>\n",
       "<style scoped>\n",
       "    .dataframe tbody tr th:only-of-type {\n",
       "        vertical-align: middle;\n",
       "    }\n",
       "\n",
       "    .dataframe tbody tr th {\n",
       "        vertical-align: top;\n",
       "    }\n",
       "\n",
       "    .dataframe thead th {\n",
       "        text-align: right;\n",
       "    }\n",
       "</style>\n",
       "<table border=\"1\" class=\"dataframe\">\n",
       "  <thead>\n",
       "    <tr style=\"text-align: right;\">\n",
       "      <th></th>\n",
       "      <th>GENDER</th>\n",
       "      <th>RIGH_LEFT_HANDED</th>\n",
       "      <th>AGE</th>\n",
       "      <th>RMS</th>\n",
       "      <th>MAX_BETWEEN_ET_HT</th>\n",
       "      <th>MIN_BETWEEN_ET_HT</th>\n",
       "      <th>STD_DEVIATION_ET_HT</th>\n",
       "      <th>MRT</th>\n",
       "      <th>MAX_HT</th>\n",
       "      <th>MIN_HT</th>\n",
       "      <th>STD_HT</th>\n",
       "      <th>CHANGES_FROM_NEGATIVE_TO_POSITIVE_BETWEEN_ET_HT</th>\n",
       "      <th>CLASS_TYPE</th>\n",
       "    </tr>\n",
       "  </thead>\n",
       "  <tbody>\n",
       "    <tr>\n",
       "      <td>0</td>\n",
       "      <td>1</td>\n",
       "      <td>1</td>\n",
       "      <td>58</td>\n",
       "      <td>14900.772670</td>\n",
       "      <td>13207.241210</td>\n",
       "      <td>40856.39894</td>\n",
       "      <td>0.087041</td>\n",
       "      <td>56.978320</td>\n",
       "      <td>192.737170</td>\n",
       "      <td>0.026662</td>\n",
       "      <td>4394.307090</td>\n",
       "      <td>0.120773</td>\n",
       "      <td>1</td>\n",
       "    </tr>\n",
       "    <tr>\n",
       "      <td>1</td>\n",
       "      <td>1</td>\n",
       "      <td>1</td>\n",
       "      <td>60</td>\n",
       "      <td>6076.106534</td>\n",
       "      <td>9440.754502</td>\n",
       "      <td>36137.73814</td>\n",
       "      <td>0.065872</td>\n",
       "      <td>39.597318</td>\n",
       "      <td>169.753376</td>\n",
       "      <td>0.266595</td>\n",
       "      <td>2031.447046</td>\n",
       "      <td>0.172414</td>\n",
       "      <td>1</td>\n",
       "    </tr>\n",
       "    <tr>\n",
       "      <td>2</td>\n",
       "      <td>0</td>\n",
       "      <td>1</td>\n",
       "      <td>56</td>\n",
       "      <td>12220.462340</td>\n",
       "      <td>12247.263300</td>\n",
       "      <td>39871.73569</td>\n",
       "      <td>0.000000</td>\n",
       "      <td>46.183810</td>\n",
       "      <td>192.536776</td>\n",
       "      <td>0.007857</td>\n",
       "      <td>3843.754479</td>\n",
       "      <td>0.123894</td>\n",
       "      <td>1</td>\n",
       "    </tr>\n",
       "    <tr>\n",
       "      <td>3</td>\n",
       "      <td>1</td>\n",
       "      <td>1</td>\n",
       "      <td>24</td>\n",
       "      <td>4810.072073</td>\n",
       "      <td>4904.029458</td>\n",
       "      <td>32262.38975</td>\n",
       "      <td>0.044374</td>\n",
       "      <td>31.485790</td>\n",
       "      <td>200.401229</td>\n",
       "      <td>0.114530</td>\n",
       "      <td>1586.941716</td>\n",
       "      <td>0.162011</td>\n",
       "      <td>1</td>\n",
       "    </tr>\n",
       "    <tr>\n",
       "      <td>4</td>\n",
       "      <td>1</td>\n",
       "      <td>1</td>\n",
       "      <td>79</td>\n",
       "      <td>5458.875925</td>\n",
       "      <td>5911.591981</td>\n",
       "      <td>31795.46792</td>\n",
       "      <td>0.040906</td>\n",
       "      <td>47.231442</td>\n",
       "      <td>134.897863</td>\n",
       "      <td>0.026703</td>\n",
       "      <td>2251.866128</td>\n",
       "      <td>0.202899</td>\n",
       "      <td>1</td>\n",
       "    </tr>\n",
       "  </tbody>\n",
       "</table>\n",
       "</div>"
      ],
      "text/plain": [
       "   GENDER  RIGH_LEFT_HANDED  AGE           RMS  MAX_BETWEEN_ET_HT  \\\n",
       "0       1                 1   58  14900.772670       13207.241210   \n",
       "1       1                 1   60   6076.106534        9440.754502   \n",
       "2       0                 1   56  12220.462340       12247.263300   \n",
       "3       1                 1   24   4810.072073        4904.029458   \n",
       "4       1                 1   79   5458.875925        5911.591981   \n",
       "\n",
       "   MIN_BETWEEN_ET_HT  STD_DEVIATION_ET_HT        MRT      MAX_HT    MIN_HT  \\\n",
       "0        40856.39894             0.087041  56.978320  192.737170  0.026662   \n",
       "1        36137.73814             0.065872  39.597318  169.753376  0.266595   \n",
       "2        39871.73569             0.000000  46.183810  192.536776  0.007857   \n",
       "3        32262.38975             0.044374  31.485790  200.401229  0.114530   \n",
       "4        31795.46792             0.040906  47.231442  134.897863  0.026703   \n",
       "\n",
       "        STD_HT  CHANGES_FROM_NEGATIVE_TO_POSITIVE_BETWEEN_ET_HT  CLASS_TYPE  \n",
       "0  4394.307090                                         0.120773           1  \n",
       "1  2031.447046                                         0.172414           1  \n",
       "2  3843.754479                                         0.123894           1  \n",
       "3  1586.941716                                         0.162011           1  \n",
       "4  2251.866128                                         0.202899           1  "
      ]
     },
     "execution_count": 3,
     "metadata": {},
     "output_type": "execute_result"
    }
   ],
   "source": [
    "df = my_data.pop('CLASS_TYPE') # remove column status and store it in df\n",
    "my_data['CLASS_TYPE']=df # add status as a 'new' column.\n",
    "my_data.drop(columns=[\"_ID_EXAM\",\"IMAGE_NAME\",\"ID_PATIENT\"],inplace=True)\n",
    "gender = {'M': 1,'F': 0}\n",
    "my_data.GENDER = [gender[item] for item in my_data.GENDER]\n",
    "hand = {'R': 1,'L': 0}\n",
    "my_data.RIGH_LEFT_HANDED = [hand[item] for item in my_data.RIGH_LEFT_HANDED]\n",
    "my_data.head()\n"
   ]
  },
  {
   "cell_type": "code",
   "execution_count": 4,
   "metadata": {},
   "outputs": [],
   "source": [
    "X = my_data.iloc[0:my_data.shape[0],0:my_data.shape[1]-1].values\n",
    "y = my_data.iloc[0:my_data.shape[0],my_data.shape[1]-1:my_data.shape[1]].values\n",
    "dim=X.shape[1]"
   ]
  },
  {
   "cell_type": "code",
   "execution_count": 5,
   "metadata": {},
   "outputs": [],
   "source": [
    "X_train, X_test, y_train, y_test = train_test_split(X, y, test_size=0.3, random_state=0)\n"
   ]
  },
  {
   "cell_type": "markdown",
   "metadata": {},
   "source": [
    "Feature scaling is a method used to normalize the range of features of data"
   ]
  },
  {
   "cell_type": "code",
   "execution_count": 6,
   "metadata": {},
   "outputs": [],
   "source": [
    "# Feature Scaling\n",
    "def featureScaling(X_train,X_test):\n",
    "    sc = StandardScaler()\n",
    "    X_train = sc.fit_transform(X_train)\n",
    "    X_test = sc.transform(X_test)\n",
    "    return X_train,X_test\n",
    "    \n",
    "X_train,X_test=featureScaling(X_train,X_test)\n"
   ]
  },
  {
   "cell_type": "markdown",
   "metadata": {},
   "source": [
    "Initialize alpha_pos, beta_pos, delta_pos with an array\n",
    "of size (1 * dimension_size) containing all zero."
   ]
  },
  {
   "cell_type": "code",
   "execution_count": 7,
   "metadata": {},
   "outputs": [],
   "source": [
    "alpha_pos=np.zeros(dim)\n",
    "beta_pos=np.zeros(dim)\n",
    "delta_pos=np.zeros(dim)"
   ]
  },
  {
   "cell_type": "markdown",
   "metadata": {},
   "source": [
    "Initialize the variables alpha_score, beta_score and\n",
    "delta_score with zero"
   ]
  },
  {
   "cell_type": "code",
   "execution_count": 8,
   "metadata": {},
   "outputs": [],
   "source": [
    "alpha_score=0\n",
    "beta_score=0 \n",
    "delta_score=0"
   ]
  },
  {
   "cell_type": "markdown",
   "metadata": {},
   "source": [
    " Initialize the population of the wolves with random\n",
    "values of size (no_of_search_agents * dimension_size)\n",
    "and store it into the array Positions."
   ]
  },
  {
   "cell_type": "code",
   "execution_count": 9,
   "metadata": {},
   "outputs": [],
   "source": [
    "SearchAgents_no=10\n",
    "lb=0\n",
    "ub=1\n",
    "lb = [lb] * dim\n",
    "ub = [ub] * dim\n",
    "Positions = np.zeros((SearchAgents_no, dim))\n",
    "for i in range(dim):\n",
    "    Positions[:, i] = (np.random.uniform(0, 1, SearchAgents_no) * (ub[i] - lb[i]) + lb[i])\n"
   ]
  },
  {
   "cell_type": "markdown",
   "metadata": {},
   "source": [
    "Calculate the importance (imp) of each features using model.feature_importances_"
   ]
  },
  {
   "cell_type": "code",
   "execution_count": 10,
   "metadata": {},
   "outputs": [
    {
     "name": "stdout",
     "output_type": "stream",
     "text": [
      "Feature: 0 : Score: 0.01324  Feature: 1 : Score: 0.00000  Feature: 2 : Score: 0.20790  Feature: 3 : Score: 0.08620  Feature: 4 : Score: 0.08735  Feature: 5 : Score: 0.06267  Feature: 6 : Score: 0.07329  Feature: 7 : Score: 0.15363  Feature: 8 : Score: 0.07606  Feature: 9 : Score: 0.04391  Feature: 10 : Score: 0.12587  Feature: 11 : Score: 0.06987  "
     ]
    }
   ],
   "source": [
    "# define the model\n",
    "model = RandomForestClassifier()\n",
    "# fit the model\n",
    "model.fit(X_train, y_train)\n",
    "# get importance\n",
    "importance = model.feature_importances_\n",
    "\n",
    "# summarize feature importance\n",
    "for i,v in enumerate(importance):\n",
    "\tprint('Feature: %0d : Score: %.5f' % (i,v), end=\"  \")\n"
   ]
  },
  {
   "cell_type": "code",
   "execution_count": 11,
   "metadata": {},
   "outputs": [
    {
     "data": {
      "image/png": "[encoded data removed]",
      "text/plain": [
       "<Figure size 432x288 with 1 Axes>"
      ]
     },
     "metadata": {
      "needs_background": "light"
     },
     "output_type": "display_data"
    }
   ],
   "source": [
    "# plot feature importance\n",
    "plt.bar([x for x in range(len(importance))], importance)\n",
    "plt.show()"
   ]
  },
  {
   "cell_type": "markdown",
   "metadata": {},
   "source": [
    "Define the fitness function (fit) returning the fitness of\n",
    "each search agents"
   ]
  },
  {
   "cell_type": "code",
   "execution_count": 12,
   "metadata": {},
   "outputs": [],
   "source": [
    "def fitness_function(pos):\n",
    "    lf=len([i for i in pos if i > 0.5]) \n",
    "    imp=0\n",
    "    for i in [index for index,value in enumerate(pos) if value > 0.5]:\n",
    "        imp+=importance[i]\n",
    "    \n",
    "    lt=dim\n",
    "    wf=0.7\n",
    "    fnt=imp +(wf*(1-(lf/lt)))\n",
    "    return fnt\n",
    "    "
   ]
  },
  {
   "cell_type": "code",
   "execution_count": 13,
   "metadata": {},
   "outputs": [],
   "source": [
    "Max_iter=1000\n",
    "for l in range(0, Max_iter):\n",
    "    for i in range(0, SearchAgents_no):\n",
    "\n",
    "        # Return back the search agents that go beyond the boundaries of the search space\n",
    "        for j in range(dim):\n",
    "            Positions[i, j] = np.clip(Positions[i, j], lb[j], ub[j])\n",
    "        \n",
    "        # Calculate objective function for each search agent\n",
    "        fitness = fitness_function(Positions[i, :])\n",
    "        \n",
    "        \n",
    "        if fitness > alpha_score :\n",
    "            alpha_score = fitness\n",
    "            alpha_pos = np.array(Positions[i,:])\n",
    "        if (fitness < alpha_score and fitness > beta_score):\n",
    "            beta_score = fitness\n",
    "            beta_pos = np.array(Positions[i,:])\n",
    "        if (fitness < alpha_score and fitness < beta_score and fitness > delta_score):\n",
    "            delta_score = fitness\n",
    "            delta_pos = np.array(Positions[i,:])\n",
    "   \n",
    "    a = 2 - l * ((2) / Max_iter) # a decreases linearly fron 2 to 0\n",
    "    a = 2 - 2 * ((l / Max_iter)**2)\n",
    "    \n",
    "    # Update the Position of search agents including omegas\n",
    "    for i in range(0, SearchAgents_no):\n",
    "        for j in range(0, dim):\n",
    "\n",
    "            r1 = random.random()  # r1 is a random number in [0,1]\n",
    "            r2 = random.random()  # r2 is a random number in [0,1]\n",
    "\n",
    "            A1 = 2 * a * r1 - a\n",
    "            if A1<0:\n",
    "                    A1=2*2*r1-2\n",
    "            C1 = 2 * r2\n",
    "               \n",
    "            D_alpha = abs(C1 * alpha_pos[j] - Positions[i, j])\n",
    "            X1 = alpha_pos[j] - A1 * D_alpha    \n",
    "\n",
    "            r1 = random.random()\n",
    "            r2 = random.random()\n",
    "\n",
    "            A2 = 2 * a * r1 - a\n",
    "            if A2<0:\n",
    "                    A2=2*2*r1-2\n",
    "            C2 = 2 * r2\n",
    "    \n",
    "            D_beta = abs(C2 * beta_pos[j] - Positions[i, j])\n",
    "            X2 = beta_pos[j] - A2 * D_beta         \n",
    "\n",
    "            r1 = random.random()\n",
    "            r2 = random.random()\n",
    "\n",
    "            A3 = 2 * a * r1 - a\n",
    "            if A3<0:\n",
    "                    A3=2*2*r1-2\n",
    "            C3 = 2 * r2\n",
    "             \n",
    "            D_delta = abs(C3 * delta_pos[j] - Positions[i, j])\n",
    "            X3 = delta_pos[j] - A3 * D_delta\n",
    "              \n",
    "            x=(X1 + X2 + X3)/3\n",
    "            \n",
    "            sig_x = 1/(1 + math.exp(10 *(x-0.5)))\n",
    "    \n",
    "            Positions[i, j]=sig_x\n"
   ]
  },
  {
   "cell_type": "markdown",
   "metadata": {},
   "source": [
    "\n",
    "Use the Alpha_pos for feature selection"
   ]
  },
  {
   "cell_type": "code",
   "execution_count": 14,
   "metadata": {},
   "outputs": [],
   "source": [
    "def dimReduction(X_train,X_test,alpha_pos):\n",
    "    X_train=np.delete(X_train,[index for index,value in enumerate(alpha_pos) if value < 0.5], axis = 1) \n",
    "    X_test=np.delete(X_test,[index for index,value in enumerate(alpha_pos) if value < 0.5], axis = 1)\n",
    "    return X_train,X_test\n",
    "X_train,X_test=dimReduction(X_train,X_test,alpha_pos)"
   ]
  },
  {
   "cell_type": "markdown",
   "metadata": {},
   "source": [
    "A Voting Classifier is a machine learning model that trains on an ensemble of numerous models and we create a single model which trains by these models and predicts output based on their combined majority of voting for each output class."
   ]
  },
  {
   "cell_type": "code",
   "execution_count": 15,
   "metadata": {},
   "outputs": [
    {
     "data": {
      "text/plain": [
       "VotingClassifier(estimators=[('RFC',\n",
       "                              RandomForestClassifier(bootstrap=True,\n",
       "                                                     class_weight=None,\n",
       "                                                     criterion='gini',\n",
       "                                                     max_depth=None,\n",
       "                                                     max_features='auto',\n",
       "                                                     max_leaf_nodes=None,\n",
       "                                                     min_impurity_decrease=0.0,\n",
       "                                                     min_impurity_split=None,\n",
       "                                                     min_samples_leaf=1,\n",
       "                                                     min_samples_split=2,\n",
       "                                                     min_weight_fraction_leaf=0.0,\n",
       "                                                     n_estimators='warn',\n",
       "                                                     n_jobs=None,\n",
       "                                                     oob_score=False,\n",
       "                                                     random_state=None,\n",
       "                                                     ve...\n",
       "                                                   p=2, weights='uniform')),\n",
       "                             ('DTC',\n",
       "                              DecisionTreeClassifier(class_weight=None,\n",
       "                                                     criterion='gini',\n",
       "                                                     max_depth=None,\n",
       "                                                     max_features=None,\n",
       "                                                     max_leaf_nodes=None,\n",
       "                                                     min_impurity_decrease=0.0,\n",
       "                                                     min_impurity_split=None,\n",
       "                                                     min_samples_leaf=1,\n",
       "                                                     min_samples_split=2,\n",
       "                                                     min_weight_fraction_leaf=0.0,\n",
       "                                                     presort=False,\n",
       "                                                     random_state=None,\n",
       "                                                     splitter='best'))],\n",
       "                 flatten_transform=True, n_jobs=None, voting='hard',\n",
       "                 weights=None)"
      ]
     },
     "execution_count": 15,
     "metadata": {},
     "output_type": "execute_result"
    }
   ],
   "source": [
    "estimator = [] \n",
    "estimator.append(('RFC', RandomForestClassifier())) \n",
    "estimator.append(('KNN',KNeighborsClassifier()))\n",
    "estimator.append(('DTC', DecisionTreeClassifier()))\n",
    "\n",
    "# Voting Classifier with hard voting \n",
    "vot_hard = VotingClassifier(estimators = estimator, voting ='hard') \n",
    "vot_hard.fit(X_train, y_train)"
   ]
  },
  {
   "cell_type": "code",
   "execution_count": 16,
   "metadata": {},
   "outputs": [],
   "source": [
    " \n",
    "def prediction(X_test):\n",
    "    return vot_hard.predict(X_test) \n",
    "    \n",
    "y_pred=prediction(X_test)"
   ]
  },
  {
   "cell_type": "code",
   "execution_count": 17,
   "metadata": {},
   "outputs": [
    {
     "name": "stdout",
     "output_type": "stream",
     "text": [
      "0.8\n"
     ]
    }
   ],
   "source": [
    "# using accuracy_score metric to predict accuracy \n",
    "print(accuracy_score(y_test, y_pred))"
   ]
  },
  {
   "cell_type": "markdown",
   "metadata": {},
   "source": [
    "In binary classification, the count of true negatives is C(0,0), false negatives is C(1,0),true positives is C(1,1) and false positives C(0,1)is."
   ]
  },
  {
   "cell_type": "code",
   "execution_count": 18,
   "metadata": {},
   "outputs": [
    {
     "name": "stdout",
     "output_type": "stream",
     "text": [
      "[[34  4]\n",
      " [12 30]]\n"
     ]
    }
   ],
   "source": [
    "print(confusion_matrix(y_test,y_pred))\n"
   ]
  },
  {
   "cell_type": "markdown",
   "metadata": {},
   "source": [
    "Precision = TruePositives / (TruePositives + FalsePositives)\n",
    "\n"
   ]
  },
  {
   "cell_type": "markdown",
   "metadata": {},
   "source": [
    "Recall = TruePositives / (TruePositives + FalseNegatives)\n"
   ]
  },
  {
   "cell_type": "markdown",
   "metadata": {},
   "source": [
    "F1-score = 2 x Recall x Precision / Recall+Precision"
   ]
  },
  {
   "cell_type": "code",
   "execution_count": 19,
   "metadata": {},
   "outputs": [
    {
     "name": "stdout",
     "output_type": "stream",
     "text": [
      "               precision    recall  f1-score   support\n",
      "\n",
      " No Parkinson       0.74      0.89      0.81        38\n",
      "Yes Parkinson       0.88      0.71      0.79        42\n",
      "\n",
      "     accuracy                           0.80        80\n",
      "    macro avg       0.81      0.80      0.80        80\n",
      " weighted avg       0.81      0.80      0.80        80\n",
      "\n"
     ]
    }
   ],
   "source": [
    "print(classification_report(y_test,y_pred,target_names=[\"No Parkinson\",\"Yes Parkinson\"]))"
   ]
  },
  {
   "cell_type": "code",
   "execution_count": null,
   "metadata": {},
   "outputs": [],
   "source": []
  },
  {
   "cell_type": "code",
   "execution_count": null,
   "metadata": {},
   "outputs": [],
   "source": []
  },
  {
   "cell_type": "code",
   "execution_count": null,
   "metadata": {},
   "outputs": [],
   "source": []
  },
  {
   "cell_type": "code",
   "execution_count": null,
   "metadata": {},
   "outputs": [],
   "source": []
  },
  {
   "cell_type": "code",
   "execution_count": null,
   "metadata": {},
   "outputs": [],
   "source": []
  },
  {
   "cell_type": "code",
   "execution_count": null,
   "metadata": {},
   "outputs": [],
   "source": []
  },
  {
   "cell_type": "code",
   "execution_count": null,
   "metadata": {},
   "outputs": [],
   "source": []
  },
  {
   "cell_type": "code",
   "execution_count": null,
   "metadata": {},
   "outputs": [],
   "source": []
  }
 ],
 "metadata": {
  "kernelspec": {
   "display_name": "Python 3",
   "language": "python",
   "name": "python3"
  },
  "language_info": {
   "codemirror_mode": {
    "name": "ipython",
    "version": 3
   },
   "file_extension": ".py",
   "mimetype": "text/x-python",
   "name": "python",
   "nbconvert_exporter": "python",
   "pygments_lexer": "ipython3",
   "version": "3.7.4"
  }
 },
 "nbformat": 4,
 "nbformat_minor": 2
}
