{
 "cells": [
  {
   "cell_type": "markdown",
   "metadata": {},
   "source": [
    "# Parkinson disease predicition with Modified Grey Wolf Optimization (MGWO) using Voice pd dataset"
   ]
  },
  {
   "cell_type": "code",
   "execution_count": 1,
   "metadata": {},
   "outputs": [],
   "source": [
    "import numpy as np\n",
    "import pandas as pd\n",
    "import matplotlib.pyplot as plt\n",
    "from sklearn.ensemble import RandomForestClassifier\n",
    "import math\n",
    "import random\n",
    "import warnings\n",
    "warnings.filterwarnings('ignore')\n",
    "from sklearn.model_selection import train_test_split\n",
    "from sklearn.preprocessing import StandardScaler\n",
    "from sklearn.metrics import classification_report, confusion_matrix, accuracy_score\n",
    "from sklearn.neighbors import KNeighborsClassifier\n",
    "from sklearn.tree import DecisionTreeClassifier\n",
    "from sklearn.ensemble import VotingClassifier"
   ]
  },
  {
   "cell_type": "markdown",
   "metadata": {},
   "source": [
    "Load the respective Parkinson dataset"
   ]
  },
  {
   "cell_type": "code",
   "execution_count": 2,
   "metadata": {},
   "outputs": [
    {
     "data": {
      "text/html": [
       "<div>\n",
       "<style scoped>\n",
       "    .dataframe tbody tr th:only-of-type {\n",
       "        vertical-align: middle;\n",
       "    }\n",
       "\n",
       "    .dataframe tbody tr th {\n",
       "        vertical-align: top;\n",
       "    }\n",
       "\n",
       "    .dataframe thead th {\n",
       "        text-align: right;\n",
       "    }\n",
       "</style>\n",
       "<table border=\"1\" class=\"dataframe\">\n",
       "  <thead>\n",
       "    <tr style=\"text-align: right;\">\n",
       "      <th></th>\n",
       "      <th>Subject id</th>\n",
       "      <th>Jitter (local)</th>\n",
       "      <th>Jitter (local, absolute)</th>\n",
       "      <th>Jitter (rap)</th>\n",
       "      <th>Jitter (ppq5)</th>\n",
       "      <th>Jitter (ddp)</th>\n",
       "      <th>Shimmer (local)</th>\n",
       "      <th>Shimmer (local, dB)</th>\n",
       "      <th>Shimmer (apq3)</th>\n",
       "      <th>Shimmer (apq5)</th>\n",
       "      <th>...</th>\n",
       "      <th>Maximum pitch</th>\n",
       "      <th>Number of pulses</th>\n",
       "      <th>Number of periods</th>\n",
       "      <th>Mean period</th>\n",
       "      <th>Standard deviation of period</th>\n",
       "      <th>Fraction of locally unvoiced frames</th>\n",
       "      <th>Number of voice breaks</th>\n",
       "      <th>Degree of voice breaks</th>\n",
       "      <th>UPDRS</th>\n",
       "      <th>class information</th>\n",
       "    </tr>\n",
       "  </thead>\n",
       "  <tbody>\n",
       "    <tr>\n",
       "      <td>0</td>\n",
       "      <td>1</td>\n",
       "      <td>1.488</td>\n",
       "      <td>0.000090</td>\n",
       "      <td>0.900</td>\n",
       "      <td>0.794</td>\n",
       "      <td>2.699</td>\n",
       "      <td>8.334</td>\n",
       "      <td>0.779</td>\n",
       "      <td>4.517</td>\n",
       "      <td>4.609</td>\n",
       "      <td>...</td>\n",
       "      <td>187.576</td>\n",
       "      <td>160</td>\n",
       "      <td>159</td>\n",
       "      <td>0.006065</td>\n",
       "      <td>0.000416</td>\n",
       "      <td>0.000</td>\n",
       "      <td>0</td>\n",
       "      <td>0.000</td>\n",
       "      <td>23</td>\n",
       "      <td>1</td>\n",
       "    </tr>\n",
       "    <tr>\n",
       "      <td>1</td>\n",
       "      <td>1</td>\n",
       "      <td>0.728</td>\n",
       "      <td>0.000038</td>\n",
       "      <td>0.353</td>\n",
       "      <td>0.376</td>\n",
       "      <td>1.059</td>\n",
       "      <td>5.864</td>\n",
       "      <td>0.642</td>\n",
       "      <td>2.058</td>\n",
       "      <td>3.180</td>\n",
       "      <td>...</td>\n",
       "      <td>234.505</td>\n",
       "      <td>170</td>\n",
       "      <td>169</td>\n",
       "      <td>0.005181</td>\n",
       "      <td>0.000403</td>\n",
       "      <td>2.247</td>\n",
       "      <td>0</td>\n",
       "      <td>0.000</td>\n",
       "      <td>23</td>\n",
       "      <td>1</td>\n",
       "    </tr>\n",
       "    <tr>\n",
       "      <td>2</td>\n",
       "      <td>1</td>\n",
       "      <td>1.220</td>\n",
       "      <td>0.000074</td>\n",
       "      <td>0.732</td>\n",
       "      <td>0.670</td>\n",
       "      <td>2.196</td>\n",
       "      <td>8.719</td>\n",
       "      <td>0.875</td>\n",
       "      <td>4.347</td>\n",
       "      <td>5.166</td>\n",
       "      <td>...</td>\n",
       "      <td>211.442</td>\n",
       "      <td>1431</td>\n",
       "      <td>1427</td>\n",
       "      <td>0.006071</td>\n",
       "      <td>0.000474</td>\n",
       "      <td>10.656</td>\n",
       "      <td>1</td>\n",
       "      <td>0.178</td>\n",
       "      <td>23</td>\n",
       "      <td>1</td>\n",
       "    </tr>\n",
       "    <tr>\n",
       "      <td>3</td>\n",
       "      <td>1</td>\n",
       "      <td>2.502</td>\n",
       "      <td>0.000123</td>\n",
       "      <td>1.156</td>\n",
       "      <td>1.634</td>\n",
       "      <td>3.469</td>\n",
       "      <td>13.513</td>\n",
       "      <td>1.273</td>\n",
       "      <td>5.263</td>\n",
       "      <td>8.771</td>\n",
       "      <td>...</td>\n",
       "      <td>220.230</td>\n",
       "      <td>94</td>\n",
       "      <td>92</td>\n",
       "      <td>0.004910</td>\n",
       "      <td>0.000320</td>\n",
       "      <td>0.000</td>\n",
       "      <td>0</td>\n",
       "      <td>0.000</td>\n",
       "      <td>23</td>\n",
       "      <td>1</td>\n",
       "    </tr>\n",
       "    <tr>\n",
       "      <td>4</td>\n",
       "      <td>1</td>\n",
       "      <td>3.509</td>\n",
       "      <td>0.000167</td>\n",
       "      <td>1.715</td>\n",
       "      <td>1.539</td>\n",
       "      <td>5.145</td>\n",
       "      <td>9.112</td>\n",
       "      <td>1.040</td>\n",
       "      <td>3.102</td>\n",
       "      <td>4.927</td>\n",
       "      <td>...</td>\n",
       "      <td>225.162</td>\n",
       "      <td>117</td>\n",
       "      <td>114</td>\n",
       "      <td>0.004757</td>\n",
       "      <td>0.000380</td>\n",
       "      <td>18.182</td>\n",
       "      <td>1</td>\n",
       "      <td>13.318</td>\n",
       "      <td>23</td>\n",
       "      <td>1</td>\n",
       "    </tr>\n",
       "  </tbody>\n",
       "</table>\n",
       "<p>5 rows × 29 columns</p>\n",
       "</div>"
      ],
      "text/plain": [
       "   Subject id  Jitter (local)  Jitter (local, absolute)  Jitter (rap)  \\\n",
       "0           1           1.488                  0.000090         0.900   \n",
       "1           1           0.728                  0.000038         0.353   \n",
       "2           1           1.220                  0.000074         0.732   \n",
       "3           1           2.502                  0.000123         1.156   \n",
       "4           1           3.509                  0.000167         1.715   \n",
       "\n",
       "   Jitter (ppq5)  Jitter (ddp)  Shimmer (local)  Shimmer (local, dB)  \\\n",
       "0          0.794         2.699            8.334                0.779   \n",
       "1          0.376         1.059            5.864                0.642   \n",
       "2          0.670         2.196            8.719                0.875   \n",
       "3          1.634         3.469           13.513                1.273   \n",
       "4          1.539         5.145            9.112                1.040   \n",
       "\n",
       "   Shimmer (apq3)  Shimmer (apq5)  ...  Maximum pitch  Number of pulses  \\\n",
       "0           4.517           4.609  ...        187.576               160   \n",
       "1           2.058           3.180  ...        234.505               170   \n",
       "2           4.347           5.166  ...        211.442              1431   \n",
       "3           5.263           8.771  ...        220.230                94   \n",
       "4           3.102           4.927  ...        225.162               117   \n",
       "\n",
       "   Number of periods  Mean period  Standard deviation of period  \\\n",
       "0                159     0.006065                      0.000416   \n",
       "1                169     0.005181                      0.000403   \n",
       "2               1427     0.006071                      0.000474   \n",
       "3                 92     0.004910                      0.000320   \n",
       "4                114     0.004757                      0.000380   \n",
       "\n",
       "   Fraction of locally unvoiced frames  Number of voice breaks  \\\n",
       "0                                0.000                       0   \n",
       "1                                2.247                       0   \n",
       "2                               10.656                       1   \n",
       "3                                0.000                       0   \n",
       "4                               18.182                       1   \n",
       "\n",
       "   Degree of voice breaks  UPDRS  class information  \n",
       "0                   0.000     23                  1  \n",
       "1                   0.000     23                  1  \n",
       "2                   0.178     23                  1  \n",
       "3                   0.000     23                  1  \n",
       "4                  13.318     23                  1  \n",
       "\n",
       "[5 rows x 29 columns]"
      ]
     },
     "execution_count": 2,
     "metadata": {},
     "output_type": "execute_result"
    }
   ],
   "source": [
    "cols=['Subject id','Jitter (local)','Jitter (local, absolute)','Jitter (rap)','Jitter (ppq5)','Jitter (ddp)','Shimmer (local)',\n",
    " 'Shimmer (local, dB)','Shimmer (apq3)','Shimmer (apq5)','Shimmer (apq11)','Shimmer (dda)','AC','NTH','HTN','Median pitch',\n",
    "'Mean pitch','Standard deviation','Minimum pitch','Maximum pitch','Number of pulses','Number of periods','Mean period',\n",
    "'Standard deviation of period','Fraction of locally unvoiced frames','Number of voice breaks','Degree of voice breaks','UPDRS',\n",
    "'class information']\n",
    "\n",
    "my_data=pd.read_table('Parkinson_Multiple_Sound_Recording/train_data.txt',sep=\",\",header=None,names=cols)\n",
    "my_data.head()"
   ]
  },
  {
   "cell_type": "code",
   "execution_count": 3,
   "metadata": {},
   "outputs": [],
   "source": [
    "my_data.drop(columns=[\"Subject id\",\"UPDRS\"],inplace=True)\n",
    "X_train = my_data.iloc[0:my_data.shape[0],0:my_data.shape[1]-1].values\n",
    "y_train = my_data.iloc[0:my_data.shape[0],my_data.shape[1]-1:my_data.shape[1]].values\n",
    "dim=X_train.shape[1]\n"
   ]
  },
  {
   "cell_type": "code",
   "execution_count": 4,
   "metadata": {},
   "outputs": [
    {
     "data": {
      "text/html": [
       "<div>\n",
       "<style scoped>\n",
       "    .dataframe tbody tr th:only-of-type {\n",
       "        vertical-align: middle;\n",
       "    }\n",
       "\n",
       "    .dataframe tbody tr th {\n",
       "        vertical-align: top;\n",
       "    }\n",
       "\n",
       "    .dataframe thead th {\n",
       "        text-align: right;\n",
       "    }\n",
       "</style>\n",
       "<table border=\"1\" class=\"dataframe\">\n",
       "  <thead>\n",
       "    <tr style=\"text-align: right;\">\n",
       "      <th></th>\n",
       "      <th>Subject id</th>\n",
       "      <th>Jitter (local)</th>\n",
       "      <th>Jitter (local, absolute)</th>\n",
       "      <th>Jitter (rap)</th>\n",
       "      <th>Jitter (ppq5)</th>\n",
       "      <th>Jitter (ddp)</th>\n",
       "      <th>Shimmer (local)</th>\n",
       "      <th>Shimmer (local, dB)</th>\n",
       "      <th>Shimmer (apq3)</th>\n",
       "      <th>Shimmer (apq5)</th>\n",
       "      <th>...</th>\n",
       "      <th>Minimum pitch</th>\n",
       "      <th>Maximum pitch</th>\n",
       "      <th>Number of pulses</th>\n",
       "      <th>Number of periods</th>\n",
       "      <th>Mean period</th>\n",
       "      <th>Standard deviation of period</th>\n",
       "      <th>Fraction of locally unvoiced frames</th>\n",
       "      <th>Number of voice breaks</th>\n",
       "      <th>Degree of voice breaks</th>\n",
       "      <th>class information</th>\n",
       "    </tr>\n",
       "  </thead>\n",
       "  <tbody>\n",
       "    <tr>\n",
       "      <td>0</td>\n",
       "      <td>1</td>\n",
       "      <td>0.135</td>\n",
       "      <td>0.000007</td>\n",
       "      <td>0.067</td>\n",
       "      <td>0.078</td>\n",
       "      <td>0.202</td>\n",
       "      <td>2.033</td>\n",
       "      <td>0.178</td>\n",
       "      <td>1.074</td>\n",
       "      <td>1.336</td>\n",
       "      <td>...</td>\n",
       "      <td>184.502</td>\n",
       "      <td>187.880</td>\n",
       "      <td>183.0</td>\n",
       "      <td>182.0</td>\n",
       "      <td>0.005368</td>\n",
       "      <td>0.000025</td>\n",
       "      <td>0.0</td>\n",
       "      <td>0.0</td>\n",
       "      <td>0.0</td>\n",
       "      <td>1</td>\n",
       "    </tr>\n",
       "    <tr>\n",
       "      <td>1</td>\n",
       "      <td>1</td>\n",
       "      <td>0.143</td>\n",
       "      <td>0.000007</td>\n",
       "      <td>0.073</td>\n",
       "      <td>0.081</td>\n",
       "      <td>0.219</td>\n",
       "      <td>1.236</td>\n",
       "      <td>0.107</td>\n",
       "      <td>0.612</td>\n",
       "      <td>0.904</td>\n",
       "      <td>...</td>\n",
       "      <td>198.665</td>\n",
       "      <td>202.214</td>\n",
       "      <td>194.0</td>\n",
       "      <td>193.0</td>\n",
       "      <td>0.004988</td>\n",
       "      <td>0.000020</td>\n",
       "      <td>0.0</td>\n",
       "      <td>0.0</td>\n",
       "      <td>0.0</td>\n",
       "      <td>1</td>\n",
       "    </tr>\n",
       "    <tr>\n",
       "      <td>2</td>\n",
       "      <td>1</td>\n",
       "      <td>0.162</td>\n",
       "      <td>0.000008</td>\n",
       "      <td>0.087</td>\n",
       "      <td>0.089</td>\n",
       "      <td>0.260</td>\n",
       "      <td>1.338</td>\n",
       "      <td>0.117</td>\n",
       "      <td>0.630</td>\n",
       "      <td>0.948</td>\n",
       "      <td>...</td>\n",
       "      <td>197.220</td>\n",
       "      <td>206.060</td>\n",
       "      <td>198.0</td>\n",
       "      <td>197.0</td>\n",
       "      <td>0.004940</td>\n",
       "      <td>0.000046</td>\n",
       "      <td>0.0</td>\n",
       "      <td>0.0</td>\n",
       "      <td>0.0</td>\n",
       "      <td>1</td>\n",
       "    </tr>\n",
       "    <tr>\n",
       "      <td>3</td>\n",
       "      <td>1</td>\n",
       "      <td>0.140</td>\n",
       "      <td>0.000007</td>\n",
       "      <td>0.075</td>\n",
       "      <td>0.089</td>\n",
       "      <td>0.224</td>\n",
       "      <td>1.086</td>\n",
       "      <td>0.094</td>\n",
       "      <td>0.556</td>\n",
       "      <td>0.747</td>\n",
       "      <td>...</td>\n",
       "      <td>202.324</td>\n",
       "      <td>206.182</td>\n",
       "      <td>200.0</td>\n",
       "      <td>199.0</td>\n",
       "      <td>0.004900</td>\n",
       "      <td>0.000023</td>\n",
       "      <td>0.0</td>\n",
       "      <td>0.0</td>\n",
       "      <td>0.0</td>\n",
       "      <td>1</td>\n",
       "    </tr>\n",
       "    <tr>\n",
       "      <td>4</td>\n",
       "      <td>1</td>\n",
       "      <td>0.150</td>\n",
       "      <td>0.000007</td>\n",
       "      <td>0.080</td>\n",
       "      <td>0.097</td>\n",
       "      <td>0.240</td>\n",
       "      <td>1.049</td>\n",
       "      <td>0.091</td>\n",
       "      <td>0.533</td>\n",
       "      <td>0.698</td>\n",
       "      <td>...</td>\n",
       "      <td>205.407</td>\n",
       "      <td>209.927</td>\n",
       "      <td>204.0</td>\n",
       "      <td>203.0</td>\n",
       "      <td>0.004820</td>\n",
       "      <td>0.000022</td>\n",
       "      <td>0.0</td>\n",
       "      <td>0.0</td>\n",
       "      <td>0.0</td>\n",
       "      <td>1</td>\n",
       "    </tr>\n",
       "  </tbody>\n",
       "</table>\n",
       "<p>5 rows × 28 columns</p>\n",
       "</div>"
      ],
      "text/plain": [
       "   Subject id  Jitter (local)  Jitter (local, absolute)  Jitter (rap)  \\\n",
       "0           1           0.135                  0.000007         0.067   \n",
       "1           1           0.143                  0.000007         0.073   \n",
       "2           1           0.162                  0.000008         0.087   \n",
       "3           1           0.140                  0.000007         0.075   \n",
       "4           1           0.150                  0.000007         0.080   \n",
       "\n",
       "   Jitter (ppq5)  Jitter (ddp)  Shimmer (local)  Shimmer (local, dB)  \\\n",
       "0          0.078         0.202            2.033                0.178   \n",
       "1          0.081         0.219            1.236                0.107   \n",
       "2          0.089         0.260            1.338                0.117   \n",
       "3          0.089         0.224            1.086                0.094   \n",
       "4          0.097         0.240            1.049                0.091   \n",
       "\n",
       "   Shimmer (apq3)  Shimmer (apq5)  ...  Minimum pitch  Maximum pitch  \\\n",
       "0           1.074           1.336  ...        184.502        187.880   \n",
       "1           0.612           0.904  ...        198.665        202.214   \n",
       "2           0.630           0.948  ...        197.220        206.060   \n",
       "3           0.556           0.747  ...        202.324        206.182   \n",
       "4           0.533           0.698  ...        205.407        209.927   \n",
       "\n",
       "   Number of pulses  Number of periods  Mean period  \\\n",
       "0             183.0              182.0     0.005368   \n",
       "1             194.0              193.0     0.004988   \n",
       "2             198.0              197.0     0.004940   \n",
       "3             200.0              199.0     0.004900   \n",
       "4             204.0              203.0     0.004820   \n",
       "\n",
       "   Standard deviation of period  Fraction of locally unvoiced frames  \\\n",
       "0                      0.000025                                  0.0   \n",
       "1                      0.000020                                  0.0   \n",
       "2                      0.000046                                  0.0   \n",
       "3                      0.000023                                  0.0   \n",
       "4                      0.000022                                  0.0   \n",
       "\n",
       "   Number of voice breaks  Degree of voice breaks  class information  \n",
       "0                     0.0                     0.0                  1  \n",
       "1                     0.0                     0.0                  1  \n",
       "2                     0.0                     0.0                  1  \n",
       "3                     0.0                     0.0                  1  \n",
       "4                     0.0                     0.0                  1  \n",
       "\n",
       "[5 rows x 28 columns]"
      ]
     },
     "execution_count": 4,
     "metadata": {},
     "output_type": "execute_result"
    }
   ],
   "source": [
    "cols=['Subject id','Jitter (local)','Jitter (local, absolute)','Jitter (rap)','Jitter (ppq5)','Jitter (ddp)','Shimmer (local)',\n",
    " 'Shimmer (local, dB)','Shimmer (apq3)','Shimmer (apq5)','Shimmer (apq11)','Shimmer (dda)','AC','NTH','HTN','Median pitch',\n",
    "'Mean pitch','Standard deviation','Minimum pitch','Maximum pitch','Number of pulses','Number of periods','Mean period',\n",
    "'Standard deviation of period','Fraction of locally unvoiced frames','Number of voice breaks','Degree of voice breaks',\n",
    "'class information']\n",
    "my_data_test=pd.read_table('Parkinson_Multiple_Sound_Recording/test_data.txt',sep=\",\",header=None,names=cols)\n",
    "my_data_test.head()"
   ]
  },
  {
   "cell_type": "code",
   "execution_count": 5,
   "metadata": {},
   "outputs": [],
   "source": [
    "my_data_test.drop(columns=[\"Subject id\"],inplace=True)\n",
    "X_test = my_data_test.iloc[0:my_data_test.shape[0],0:my_data_test.shape[1]-1].values\n",
    "y_test = my_data_test.iloc[0:my_data_test.shape[0],my_data_test.shape[1]-1:my_data_test.shape[1]].values"
   ]
  },
  {
   "cell_type": "markdown",
   "metadata": {},
   "source": [
    "Feature scaling is a method used to normalize the range of features of data"
   ]
  },
  {
   "cell_type": "code",
   "execution_count": 6,
   "metadata": {},
   "outputs": [],
   "source": [
    "# Feature Scaling\n",
    "def featureScaling(X_train,X_test):\n",
    "    sc = StandardScaler()\n",
    "    X_train = sc.fit_transform(X_train)\n",
    "    X_test = sc.transform(X_test)\n",
    "    return X_train,X_test\n",
    "    \n",
    "X_train,X_test=featureScaling(X_train,X_test)"
   ]
  },
  {
   "cell_type": "markdown",
   "metadata": {},
   "source": [
    "Initialize alpha_pos, beta_pos, delta_pos with an array\n",
    "of size (1 * dimension_size) containing all zero."
   ]
  },
  {
   "cell_type": "code",
   "execution_count": 7,
   "metadata": {},
   "outputs": [],
   "source": [
    "alpha_pos=np.zeros(dim)\n",
    "beta_pos=np.zeros(dim)\n",
    "delta_pos=np.zeros(dim)"
   ]
  },
  {
   "cell_type": "markdown",
   "metadata": {},
   "source": [
    "Initialize the variables alpha_score, beta_score and\n",
    "delta_score with zero"
   ]
  },
  {
   "cell_type": "code",
   "execution_count": 8,
   "metadata": {},
   "outputs": [],
   "source": [
    "alpha_score=0\n",
    "beta_score=0 \n",
    "delta_score=0"
   ]
  },
  {
   "cell_type": "markdown",
   "metadata": {},
   "source": [
    " Initialize the population of the wolves with random\n",
    "values of size (no_of_search_agents * dimension_size)\n",
    "and store it into the array Positions."
   ]
  },
  {
   "cell_type": "code",
   "execution_count": 9,
   "metadata": {},
   "outputs": [],
   "source": [
    "SearchAgents_no=10\n",
    "lb=0\n",
    "ub=1\n",
    "lb = [lb] * dim\n",
    "ub = [ub] * dim\n",
    "Positions = np.zeros((SearchAgents_no, dim))\n",
    "for i in range(dim):\n",
    "    Positions[:, i] = (np.random.uniform(0, 1, SearchAgents_no) * (ub[i] - lb[i]) + lb[i])\n"
   ]
  },
  {
   "cell_type": "markdown",
   "metadata": {},
   "source": [
    "Calculate the importance (imp) of each features using model.feature_importances_"
   ]
  },
  {
   "cell_type": "code",
   "execution_count": 10,
   "metadata": {},
   "outputs": [
    {
     "name": "stdout",
     "output_type": "stream",
     "text": [
      "Feature: 0 : Score: 0.02837  Feature: 1 : Score: 0.04382  Feature: 2 : Score: 0.04728  Feature: 3 : Score: 0.04652  Feature: 4 : Score: 0.03106  Feature: 5 : Score: 0.02761  Feature: 6 : Score: 0.04187  Feature: 7 : Score: 0.02622  Feature: 8 : Score: 0.04250  Feature: 9 : Score: 0.05996  Feature: 10 : Score: 0.02409  Feature: 11 : Score: 0.04275  Feature: 12 : Score: 0.03115  Feature: 13 : Score: 0.04743  Feature: 14 : Score: 0.04807  Feature: 15 : Score: 0.03513  Feature: 16 : Score: 0.05285  Feature: 17 : Score: 0.03370  Feature: 18 : Score: 0.05169  Feature: 19 : Score: 0.02285  Feature: 20 : Score: 0.03260  Feature: 21 : Score: 0.03717  Feature: 22 : Score: 0.04467  Feature: 23 : Score: 0.05378  Feature: 24 : Score: 0.01255  Feature: 25 : Score: 0.03430  "
     ]
    }
   ],
   "source": [
    "# define the model\n",
    "model = RandomForestClassifier()\n",
    "# fit the model\n",
    "model.fit(X_train, y_train)\n",
    "# get importance\n",
    "importance = model.feature_importances_\n",
    "\n",
    "# summarize feature importance\n",
    "for i,v in enumerate(importance):\n",
    "\tprint('Feature: %0d : Score: %.5f' % (i,v), end=\"  \")\n"
   ]
  },
  {
   "cell_type": "code",
   "execution_count": 11,
   "metadata": {},
   "outputs": [
    {
     "data": {
      "image/png": "[encoded data removed]",
      "text/plain": [
       "<Figure size 432x288 with 1 Axes>"
      ]
     },
     "metadata": {
      "needs_background": "light"
     },
     "output_type": "display_data"
    }
   ],
   "source": [
    "# plot feature importance\n",
    "plt.bar([x for x in range(len(importance))], importance)\n",
    "plt.show()"
   ]
  },
  {
   "cell_type": "markdown",
   "metadata": {},
   "source": [
    "Define the fitness function (fit) returning the fitness of\n",
    "each search agents"
   ]
  },
  {
   "cell_type": "code",
   "execution_count": 12,
   "metadata": {},
   "outputs": [],
   "source": [
    "def fitness_function(pos):\n",
    "    lf=len([i for i in pos if i > 0.5]) \n",
    "    imp=0\n",
    "    for i in [index for index,value in enumerate(pos) if value > 0.5]:\n",
    "        imp+=importance[i]\n",
    "    \n",
    "    lt=dim\n",
    "    wf=0.7\n",
    "    fnt=imp +(wf*(1-(lf/lt)))\n",
    "    return fnt\n",
    "    "
   ]
  },
  {
   "cell_type": "code",
   "execution_count": 13,
   "metadata": {},
   "outputs": [],
   "source": [
    "Max_iter=1000\n",
    "for l in range(0, Max_iter):\n",
    "    for i in range(0, SearchAgents_no):\n",
    "\n",
    "        # Return back the search agents that go beyond the boundaries of the search space\n",
    "        for j in range(dim):\n",
    "            Positions[i, j] = np.clip(Positions[i, j], lb[j], ub[j])\n",
    "        \n",
    "        # Calculate objective function for each search agent\n",
    "        fitness = fitness_function(Positions[i, :])\n",
    "        \n",
    "        \n",
    "        if fitness > alpha_score :\n",
    "            alpha_score = fitness\n",
    "            alpha_pos = np.array(Positions[i,:])\n",
    "        if (fitness < alpha_score and fitness > beta_score):\n",
    "            beta_score = fitness\n",
    "            beta_pos = np.array(Positions[i,:])\n",
    "        if (fitness < alpha_score and fitness < beta_score and fitness > delta_score):\n",
    "            delta_score = fitness\n",
    "            delta_pos = np.array(Positions[i,:])\n",
    "   \n",
    "    a = 2 - l * ((2) / Max_iter) # a decreases linearly fron 2 to 0\n",
    "    \n",
    "    # Update the Position of search agents including omegas\n",
    "    for i in range(0, SearchAgents_no):\n",
    "        for j in range(0, dim):\n",
    "\n",
    "            r1 = random.random()  # r1 is a random number in [0,1]\n",
    "            r2 = random.random()  # r2 is a random number in [0,1]\n",
    "\n",
    "            A1 = 2 * a * r1 - a\n",
    "            C1 = 2 * r2\n",
    "               \n",
    "            D_alpha = abs(C1 * alpha_pos[j] - Positions[i, j])\n",
    "            X1 = alpha_pos[j] - A1 * D_alpha    \n",
    "\n",
    "            r1 = random.random()\n",
    "            r2 = random.random()\n",
    "\n",
    "            A2 = 2 * a * r1 - a\n",
    "            C2 = 2 * r2\n",
    "    \n",
    "            D_beta = abs(C2 * beta_pos[j] - Positions[i, j])\n",
    "            X2 = beta_pos[j] - A2 * D_beta         \n",
    "\n",
    "            r1 = random.random()\n",
    "            r2 = random.random()\n",
    "\n",
    "            A3 = 2 * a * r1 - a\n",
    "            C3 = 2 * r2\n",
    "             \n",
    "            D_delta = abs(C3 * delta_pos[j] - Positions[i, j])\n",
    "            X3 = delta_pos[j] - A3 * D_delta\n",
    "              \n",
    "            x=(X1 + X2 + X3)/3\n",
    "            \n",
    "            sig_x = 1/(1 + math.exp(10 *(x-0.5)))\n",
    "    \n",
    "            Positions[i, j]=sig_x\n"
   ]
  },
  {
   "cell_type": "markdown",
   "metadata": {},
   "source": [
    "\n",
    "Use the Alpha_pos for feature selection"
   ]
  },
  {
   "cell_type": "code",
   "execution_count": 14,
   "metadata": {},
   "outputs": [],
   "source": [
    "def dimReduction(X_train,X_test,alpha_pos):\n",
    "    X_train=np.delete(X_train,[index for index,value in enumerate(alpha_pos) if value < 0.5], axis = 1) \n",
    "    X_test=np.delete(X_test,[index for index,value in enumerate(alpha_pos) if value < 0.5], axis = 1)\n",
    "    return X_train,X_test\n",
    "X_train,X_test=dimReduction(X_train,X_test,alpha_pos)\n"
   ]
  },
  {
   "cell_type": "markdown",
   "metadata": {},
   "source": [
    "A Voting Classifier is a machine learning model that trains on an ensemble of numerous models and we create a single model which trains by these models and predicts output based on their combined majority of voting for each output class."
   ]
  },
  {
   "cell_type": "code",
   "execution_count": 24,
   "metadata": {},
   "outputs": [
    {
     "data": {
      "text/plain": [
       "VotingClassifier(estimators=[('RFC',\n",
       "                              RandomForestClassifier(bootstrap=True,\n",
       "                                                     class_weight=None,\n",
       "                                                     criterion='gini',\n",
       "                                                     max_depth=None,\n",
       "                                                     max_features='auto',\n",
       "                                                     max_leaf_nodes=None,\n",
       "                                                     min_impurity_decrease=0.0,\n",
       "                                                     min_impurity_split=None,\n",
       "                                                     min_samples_leaf=1,\n",
       "                                                     min_samples_split=2,\n",
       "                                                     min_weight_fraction_leaf=0.0,\n",
       "                                                     n_estimators='warn',\n",
       "                                                     n_jobs=None,\n",
       "                                                     oob_score=False,\n",
       "                                                     random_state=None,\n",
       "                                                     ve...\n",
       "                                                   p=2, weights='uniform')),\n",
       "                             ('DTC',\n",
       "                              DecisionTreeClassifier(class_weight=None,\n",
       "                                                     criterion='gini',\n",
       "                                                     max_depth=None,\n",
       "                                                     max_features=None,\n",
       "                                                     max_leaf_nodes=None,\n",
       "                                                     min_impurity_decrease=0.0,\n",
       "                                                     min_impurity_split=None,\n",
       "                                                     min_samples_leaf=1,\n",
       "                                                     min_samples_split=2,\n",
       "                                                     min_weight_fraction_leaf=0.0,\n",
       "                                                     presort=False,\n",
       "                                                     random_state=None,\n",
       "                                                     splitter='best'))],\n",
       "                 flatten_transform=True, n_jobs=None, voting='hard',\n",
       "                 weights=None)"
      ]
     },
     "execution_count": 24,
     "metadata": {},
     "output_type": "execute_result"
    }
   ],
   "source": [
    "estimator = [] \n",
    "estimator.append(('RFC', RandomForestClassifier())) \n",
    "estimator.append(('KNN',KNeighborsClassifier()))\n",
    "estimator.append(('DTC', DecisionTreeClassifier()))\n",
    "\n",
    "# Voting Classifier with hard voting \n",
    "vot_hard = VotingClassifier(estimators = estimator, voting ='hard') \n",
    "vot_hard.fit(X_train, y_train)"
   ]
  },
  {
   "cell_type": "code",
   "execution_count": 25,
   "metadata": {},
   "outputs": [
    {
     "data": {
      "text/plain": [
       "array([0, 0, 0, 0, 0, 0, 0, 1, 1, 1, 1, 0, 1, 1, 1, 1, 1, 1, 0, 1, 1, 1,\n",
       "       1, 1, 1, 1, 1, 1, 1, 1, 0, 0, 0, 0, 0, 0, 0, 0, 0, 0, 0, 0, 1, 1,\n",
       "       1, 1, 1, 1, 1, 1, 1, 1, 1, 1, 1, 1, 1, 0, 1, 0, 0, 1, 0, 0, 0, 0,\n",
       "       1, 0, 1, 0, 0, 0, 0, 0, 0, 0, 0, 0, 1, 0, 0, 0, 1, 0, 0, 0, 0, 0,\n",
       "       0, 0, 0, 0, 0, 0, 1, 1, 0, 1, 0, 1, 1, 0, 0, 1, 0, 0, 0, 0, 1, 1,\n",
       "       1, 1, 1, 1, 1, 1, 1, 1, 0, 0, 1, 1, 1, 0, 0, 0, 1, 1, 1, 0, 1, 1,\n",
       "       0, 0, 1, 0, 1, 1, 0, 1, 1, 1, 1, 0, 0, 0, 0, 0, 0, 0, 0, 0, 0, 0,\n",
       "       0, 0, 1, 0, 0, 0, 0, 0, 1, 1, 1, 0, 0, 0], dtype=int64)"
      ]
     },
     "execution_count": 25,
     "metadata": {},
     "output_type": "execute_result"
    }
   ],
   "source": [
    "def prediction(X_test):\n",
    "    return vot_hard.predict(X_test) \n",
    "    \n",
    "y_pred=prediction(X_test)\n",
    "y_pred"
   ]
  },
  {
   "cell_type": "code",
   "execution_count": 26,
   "metadata": {},
   "outputs": [
    {
     "name": "stdout",
     "output_type": "stream",
     "text": [
      "0.4583333333333333\n"
     ]
    }
   ],
   "source": [
    "# using accuracy_score metric to predict accuracy \n",
    "print(accuracy_score(y_test, y_pred))"
   ]
  },
  {
   "cell_type": "markdown",
   "metadata": {},
   "source": [
    "In binary classification, the count of true negatives is C(0,0), false negatives is C(1,0),true positives is C(1,1) and false positives C(0,1)is."
   ]
  },
  {
   "cell_type": "code",
   "execution_count": 18,
   "metadata": {},
   "outputs": [
    {
     "name": "stdout",
     "output_type": "stream",
     "text": [
      "[[  0   0]\n",
      " [106  62]]\n"
     ]
    }
   ],
   "source": [
    "print(confusion_matrix(y_test,y_pred))\n"
   ]
  },
  {
   "cell_type": "markdown",
   "metadata": {},
   "source": [
    "Precision = TruePositives / (TruePositives + FalsePositives)\n",
    "\n"
   ]
  },
  {
   "cell_type": "markdown",
   "metadata": {},
   "source": [
    "Recall = TruePositives / (TruePositives + FalseNegatives)\n"
   ]
  },
  {
   "cell_type": "markdown",
   "metadata": {},
   "source": [
    "F1-score = 2 x Recall x Precision / Recall+Precision"
   ]
  },
  {
   "cell_type": "code",
   "execution_count": 19,
   "metadata": {},
   "outputs": [
    {
     "name": "stdout",
     "output_type": "stream",
     "text": [
      "               precision    recall  f1-score   support\n",
      "\n",
      " No Parkinson       0.00      0.00      0.00         0\n",
      "Yes Parkinson       1.00      0.37      0.54       168\n",
      "\n",
      "     accuracy                           0.37       168\n",
      "    macro avg       0.50      0.18      0.27       168\n",
      " weighted avg       1.00      0.37      0.54       168\n",
      "\n"
     ]
    }
   ],
   "source": [
    "print(classification_report(y_test,y_pred,target_names=[\"No Parkinson\",\"Yes Parkinson\"]))"
   ]
  },
  {
   "cell_type": "code",
   "execution_count": null,
   "metadata": {},
   "outputs": [],
   "source": []
  },
  {
   "cell_type": "code",
   "execution_count": null,
   "metadata": {},
   "outputs": [],
   "source": []
  },
  {
   "cell_type": "code",
   "execution_count": null,
   "metadata": {},
   "outputs": [],
   "source": []
  },
  {
   "cell_type": "code",
   "execution_count": null,
   "metadata": {},
   "outputs": [],
   "source": []
  },
  {
   "cell_type": "code",
   "execution_count": null,
   "metadata": {},
   "outputs": [],
   "source": []
  },
  {
   "cell_type": "code",
   "execution_count": null,
   "metadata": {},
   "outputs": [],
   "source": []
  },
  {
   "cell_type": "code",
   "execution_count": null,
   "metadata": {},
   "outputs": [],
   "source": []
  },
  {
   "cell_type": "code",
   "execution_count": null,
   "metadata": {},
   "outputs": [],
   "source": []
  }
 ],
 "metadata": {
  "kernelspec": {
   "display_name": "Python 3",
   "language": "python",
   "name": "python3"
  },
  "language_info": {
   "codemirror_mode": {
    "name": "ipython",
    "version": 3
   },
   "file_extension": ".py",
   "mimetype": "text/x-python",
   "name": "python",
   "nbconvert_exporter": "python",
   "pygments_lexer": "ipython3",
   "version": "3.7.4"
  }
 },
 "nbformat": 4,
 "nbformat_minor": 2
}
